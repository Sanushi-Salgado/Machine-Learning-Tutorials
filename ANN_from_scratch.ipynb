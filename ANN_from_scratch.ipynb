{
 "cells": [
  {
   "cell_type": "markdown",
   "metadata": {},
   "source": [
    "# Single Input Neuron"
   ]
  },
  {
   "cell_type": "markdown",
   "metadata": {},
   "source": [
    "- Simplest ANN - single layer perceptron\n",
    "- Has a single input layer & an output layer, no hidden neurons, no hidden layers\n",
    "- There are inputs\n",
    "- Each input has an associated weight\n",
    "- Output neuron = Each input is multiplied by its associated weight + bias\n",
    "    - 1st input * 1st weight + 2nd input * 2nd weight + n * n... + bias"
   ]
  },
  {
   "cell_type": "code",
   "execution_count": 4,
   "metadata": {},
   "outputs": [
    {
     "name": "stdout",
     "output_type": "stream",
     "text": [
      "2.3\n"
     ]
    }
   ],
   "source": [
    "# Input layer\n",
    "inputs = [1.0, 2.0, 3.0]\n",
    "\n",
    "# Weights associated with each input\n",
    "weights = [0.2, 0.8, -0.5]\n",
    "\n",
    "# Bias\n",
    "bias = 2.0\n",
    "\n",
    "# Output neuron\n",
    "output = (inputs[0] * weights[0]) + (inputs[1] * weights[1]) + (inputs[2] * weights[2]) + bias\n",
    "print(output)"
   ]
  },
  {
   "cell_type": "markdown",
   "metadata": {},
   "source": [
    "# Multiple Input Neuron"
   ]
  },
  {
   "cell_type": "code",
   "execution_count": null,
   "metadata": {},
   "outputs": [],
   "source": [
    "- Mutiple layer perceptron - has multiple input neurons \n",
    "- Has multiple layers of neurons\n",
    "- For each neuron of the output layer there is a set of weights associated with it\n",
    "- Each neuron can have a bias"
   ]
  },
  {
   "cell_type": "code",
   "execution_count": 8,
   "metadata": {},
   "outputs": [
    {
     "name": "stdout",
     "output_type": "stream",
     "text": [
      "[4.8, 1.21, 2.385]\n"
     ]
    }
   ],
   "source": [
    "# Input layer\n",
    "inputs = [1.0, 2.0, 3.0, 2.5]\n",
    "\n",
    "# Weight set\n",
    "weights1 = [0.2, 0.8, -0.5, 1.0]\n",
    "weights2 = [0.5, -0.91, 0.26, -0.5]\n",
    "weights3 = [-0.26, -0.27, 0.17, 0.87]\n",
    "\n",
    "# Bias\n",
    "bias1 = 2.0\n",
    "bias2 = 3.0\n",
    "bias3 = 0.5\n",
    "\n",
    "# Output neuron\n",
    "output = [(inputs[0] * weights1[0]) + (inputs[1] * weights1[1]) + (inputs[2] * weights1[2]) + (inputs[3] * weights1[3]) + bias1,\n",
    "          (inputs[0] * weights2[0]) + (inputs[1] * weights2[1]) + (inputs[2] * weights2[2]) + (inputs[3] * weights2[3]) + bias2,\n",
    "          (inputs[0] * weights3[0]) + (inputs[1] * weights3[1]) + (inputs[2] * weights3[2]) + (inputs[3] * weights3[3]) + bias3]\n",
    "\n",
    "\n",
    "print(output)"
   ]
  }
 ],
 "metadata": {
  "kernelspec": {
   "display_name": "Python 3",
   "language": "python",
   "name": "python3"
  },
  "language_info": {
   "codemirror_mode": {
    "name": "ipython",
    "version": 3
   },
   "file_extension": ".py",
   "mimetype": "text/x-python",
   "name": "python",
   "nbconvert_exporter": "python",
   "pygments_lexer": "ipython3",
   "version": "3.7.2"
  }
 },
 "nbformat": 4,
 "nbformat_minor": 2
}
